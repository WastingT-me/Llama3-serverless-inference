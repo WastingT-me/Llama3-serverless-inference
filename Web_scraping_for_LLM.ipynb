{
  "nbformat": 4,
  "nbformat_minor": 0,
  "metadata": {
    "colab": {
      "provenance": [],
      "collapsed_sections": [
        "LMx4qMhlcnOA",
        "5JzWHcoCc1uC"
      ],
      "gpuType": "T4"
    },
    "kernelspec": {
      "name": "python3",
      "display_name": "Python 3"
    },
    "language_info": {
      "name": "python"
    },
    "accelerator": "GPU",
    "widgets": {
      "application/vnd.jupyter.widget-state+json": {
        "bdad13f1e14c4d18bd1dbb836baa4925": {
          "model_module": "@jupyter-widgets/controls",
          "model_name": "HBoxModel",
          "model_module_version": "1.5.0",
          "state": {
            "_dom_classes": [],
            "_model_module": "@jupyter-widgets/controls",
            "_model_module_version": "1.5.0",
            "_model_name": "HBoxModel",
            "_view_count": null,
            "_view_module": "@jupyter-widgets/controls",
            "_view_module_version": "1.5.0",
            "_view_name": "HBoxView",
            "box_style": "",
            "children": [
              "IPY_MODEL_a8bf7423af3f4605bf6f76fe0579f6a2",
              "IPY_MODEL_4d4d81aea1894f26bb6d0a015b63d844",
              "IPY_MODEL_9165fae56048495b9d56dded660902de"
            ],
            "layout": "IPY_MODEL_0dde27d8a9ee48a8a9f7d088b9147f0f"
          }
        },
        "a8bf7423af3f4605bf6f76fe0579f6a2": {
          "model_module": "@jupyter-widgets/controls",
          "model_name": "HTMLModel",
          "model_module_version": "1.5.0",
          "state": {
            "_dom_classes": [],
            "_model_module": "@jupyter-widgets/controls",
            "_model_module_version": "1.5.0",
            "_model_name": "HTMLModel",
            "_view_count": null,
            "_view_module": "@jupyter-widgets/controls",
            "_view_module_version": "1.5.0",
            "_view_name": "HTMLView",
            "description": "",
            "description_tooltip": null,
            "layout": "IPY_MODEL_268cfe5f26ac4918a8ea0642a7479be6",
            "placeholder": "​",
            "style": "IPY_MODEL_4d2fd3ef6e6c45f5837c830e7c42109a",
            "value": "config.json: 100%"
          }
        },
        "4d4d81aea1894f26bb6d0a015b63d844": {
          "model_module": "@jupyter-widgets/controls",
          "model_name": "FloatProgressModel",
          "model_module_version": "1.5.0",
          "state": {
            "_dom_classes": [],
            "_model_module": "@jupyter-widgets/controls",
            "_model_module_version": "1.5.0",
            "_model_name": "FloatProgressModel",
            "_view_count": null,
            "_view_module": "@jupyter-widgets/controls",
            "_view_module_version": "1.5.0",
            "_view_name": "ProgressView",
            "bar_style": "success",
            "description": "",
            "description_tooltip": null,
            "layout": "IPY_MODEL_5d39e22e4a8644bfa8e6bd7974823f66",
            "max": 1455,
            "min": 0,
            "orientation": "horizontal",
            "style": "IPY_MODEL_d0d2f2d16c4d4e3a8641098516f842d2",
            "value": 1455
          }
        },
        "9165fae56048495b9d56dded660902de": {
          "model_module": "@jupyter-widgets/controls",
          "model_name": "HTMLModel",
          "model_module_version": "1.5.0",
          "state": {
            "_dom_classes": [],
            "_model_module": "@jupyter-widgets/controls",
            "_model_module_version": "1.5.0",
            "_model_name": "HTMLModel",
            "_view_count": null,
            "_view_module": "@jupyter-widgets/controls",
            "_view_module_version": "1.5.0",
            "_view_name": "HTMLView",
            "description": "",
            "description_tooltip": null,
            "layout": "IPY_MODEL_06644e541aa14612aaf912294ed0e700",
            "placeholder": "​",
            "style": "IPY_MODEL_df58856e5b34404ab1ac4d705fea44a7",
            "value": " 1.46k/1.46k [00:00&lt;00:00, 84.2kB/s]"
          }
        },
        "0dde27d8a9ee48a8a9f7d088b9147f0f": {
          "model_module": "@jupyter-widgets/base",
          "model_name": "LayoutModel",
          "model_module_version": "1.2.0",
          "state": {
            "_model_module": "@jupyter-widgets/base",
            "_model_module_version": "1.2.0",
            "_model_name": "LayoutModel",
            "_view_count": null,
            "_view_module": "@jupyter-widgets/base",
            "_view_module_version": "1.2.0",
            "_view_name": "LayoutView",
            "align_content": null,
            "align_items": null,
            "align_self": null,
            "border": null,
            "bottom": null,
            "display": null,
            "flex": null,
            "flex_flow": null,
            "grid_area": null,
            "grid_auto_columns": null,
            "grid_auto_flow": null,
            "grid_auto_rows": null,
            "grid_column": null,
            "grid_gap": null,
            "grid_row": null,
            "grid_template_areas": null,
            "grid_template_columns": null,
            "grid_template_rows": null,
            "height": null,
            "justify_content": null,
            "justify_items": null,
            "left": null,
            "margin": null,
            "max_height": null,
            "max_width": null,
            "min_height": null,
            "min_width": null,
            "object_fit": null,
            "object_position": null,
            "order": null,
            "overflow": null,
            "overflow_x": null,
            "overflow_y": null,
            "padding": null,
            "right": null,
            "top": null,
            "visibility": null,
            "width": null
          }
        },
        "268cfe5f26ac4918a8ea0642a7479be6": {
          "model_module": "@jupyter-widgets/base",
          "model_name": "LayoutModel",
          "model_module_version": "1.2.0",
          "state": {
            "_model_module": "@jupyter-widgets/base",
            "_model_module_version": "1.2.0",
            "_model_name": "LayoutModel",
            "_view_count": null,
            "_view_module": "@jupyter-widgets/base",
            "_view_module_version": "1.2.0",
            "_view_name": "LayoutView",
            "align_content": null,
            "align_items": null,
            "align_self": null,
            "border": null,
            "bottom": null,
            "display": null,
            "flex": null,
            "flex_flow": null,
            "grid_area": null,
            "grid_auto_columns": null,
            "grid_auto_flow": null,
            "grid_auto_rows": null,
            "grid_column": null,
            "grid_gap": null,
            "grid_row": null,
            "grid_template_areas": null,
            "grid_template_columns": null,
            "grid_template_rows": null,
            "height": null,
            "justify_content": null,
            "justify_items": null,
            "left": null,
            "margin": null,
            "max_height": null,
            "max_width": null,
            "min_height": null,
            "min_width": null,
            "object_fit": null,
            "object_position": null,
            "order": null,
            "overflow": null,
            "overflow_x": null,
            "overflow_y": null,
            "padding": null,
            "right": null,
            "top": null,
            "visibility": null,
            "width": null
          }
        },
        "4d2fd3ef6e6c45f5837c830e7c42109a": {
          "model_module": "@jupyter-widgets/controls",
          "model_name": "DescriptionStyleModel",
          "model_module_version": "1.5.0",
          "state": {
            "_model_module": "@jupyter-widgets/controls",
            "_model_module_version": "1.5.0",
            "_model_name": "DescriptionStyleModel",
            "_view_count": null,
            "_view_module": "@jupyter-widgets/base",
            "_view_module_version": "1.2.0",
            "_view_name": "StyleView",
            "description_width": ""
          }
        },
        "5d39e22e4a8644bfa8e6bd7974823f66": {
          "model_module": "@jupyter-widgets/base",
          "model_name": "LayoutModel",
          "model_module_version": "1.2.0",
          "state": {
            "_model_module": "@jupyter-widgets/base",
            "_model_module_version": "1.2.0",
            "_model_name": "LayoutModel",
            "_view_count": null,
            "_view_module": "@jupyter-widgets/base",
            "_view_module_version": "1.2.0",
            "_view_name": "LayoutView",
            "align_content": null,
            "align_items": null,
            "align_self": null,
            "border": null,
            "bottom": null,
            "display": null,
            "flex": null,
            "flex_flow": null,
            "grid_area": null,
            "grid_auto_columns": null,
            "grid_auto_flow": null,
            "grid_auto_rows": null,
            "grid_column": null,
            "grid_gap": null,
            "grid_row": null,
            "grid_template_areas": null,
            "grid_template_columns": null,
            "grid_template_rows": null,
            "height": null,
            "justify_content": null,
            "justify_items": null,
            "left": null,
            "margin": null,
            "max_height": null,
            "max_width": null,
            "min_height": null,
            "min_width": null,
            "object_fit": null,
            "object_position": null,
            "order": null,
            "overflow": null,
            "overflow_x": null,
            "overflow_y": null,
            "padding": null,
            "right": null,
            "top": null,
            "visibility": null,
            "width": null
          }
        },
        "d0d2f2d16c4d4e3a8641098516f842d2": {
          "model_module": "@jupyter-widgets/controls",
          "model_name": "ProgressStyleModel",
          "model_module_version": "1.5.0",
          "state": {
            "_model_module": "@jupyter-widgets/controls",
            "_model_module_version": "1.5.0",
            "_model_name": "ProgressStyleModel",
            "_view_count": null,
            "_view_module": "@jupyter-widgets/base",
            "_view_module_version": "1.2.0",
            "_view_name": "StyleView",
            "bar_color": null,
            "description_width": ""
          }
        },
        "06644e541aa14612aaf912294ed0e700": {
          "model_module": "@jupyter-widgets/base",
          "model_name": "LayoutModel",
          "model_module_version": "1.2.0",
          "state": {
            "_model_module": "@jupyter-widgets/base",
            "_model_module_version": "1.2.0",
            "_model_name": "LayoutModel",
            "_view_count": null,
            "_view_module": "@jupyter-widgets/base",
            "_view_module_version": "1.2.0",
            "_view_name": "LayoutView",
            "align_content": null,
            "align_items": null,
            "align_self": null,
            "border": null,
            "bottom": null,
            "display": null,
            "flex": null,
            "flex_flow": null,
            "grid_area": null,
            "grid_auto_columns": null,
            "grid_auto_flow": null,
            "grid_auto_rows": null,
            "grid_column": null,
            "grid_gap": null,
            "grid_row": null,
            "grid_template_areas": null,
            "grid_template_columns": null,
            "grid_template_rows": null,
            "height": null,
            "justify_content": null,
            "justify_items": null,
            "left": null,
            "margin": null,
            "max_height": null,
            "max_width": null,
            "min_height": null,
            "min_width": null,
            "object_fit": null,
            "object_position": null,
            "order": null,
            "overflow": null,
            "overflow_x": null,
            "overflow_y": null,
            "padding": null,
            "right": null,
            "top": null,
            "visibility": null,
            "width": null
          }
        },
        "df58856e5b34404ab1ac4d705fea44a7": {
          "model_module": "@jupyter-widgets/controls",
          "model_name": "DescriptionStyleModel",
          "model_module_version": "1.5.0",
          "state": {
            "_model_module": "@jupyter-widgets/controls",
            "_model_module_version": "1.5.0",
            "_model_name": "DescriptionStyleModel",
            "_view_count": null,
            "_view_module": "@jupyter-widgets/base",
            "_view_module_version": "1.2.0",
            "_view_name": "StyleView",
            "description_width": ""
          }
        },
        "1528c6ce89394ba6b5d3ed2a532c4373": {
          "model_module": "@jupyter-widgets/controls",
          "model_name": "HBoxModel",
          "model_module_version": "1.5.0",
          "state": {
            "_dom_classes": [],
            "_model_module": "@jupyter-widgets/controls",
            "_model_module_version": "1.5.0",
            "_model_name": "HBoxModel",
            "_view_count": null,
            "_view_module": "@jupyter-widgets/controls",
            "_view_module_version": "1.5.0",
            "_view_name": "HBoxView",
            "box_style": "",
            "children": [
              "IPY_MODEL_6ffd3e3ec83b4d8f9628f891f9c43480",
              "IPY_MODEL_69b701bc1bc14be18c5744878e57f43e",
              "IPY_MODEL_fdbbe24afc9746c2ab2f0984f20e05cd"
            ],
            "layout": "IPY_MODEL_fd64960d8f234a3a965e94c6c88bcf7d"
          }
        },
        "6ffd3e3ec83b4d8f9628f891f9c43480": {
          "model_module": "@jupyter-widgets/controls",
          "model_name": "HTMLModel",
          "model_module_version": "1.5.0",
          "state": {
            "_dom_classes": [],
            "_model_module": "@jupyter-widgets/controls",
            "_model_module_version": "1.5.0",
            "_model_name": "HTMLModel",
            "_view_count": null,
            "_view_module": "@jupyter-widgets/controls",
            "_view_module_version": "1.5.0",
            "_view_name": "HTMLView",
            "description": "",
            "description_tooltip": null,
            "layout": "IPY_MODEL_0cdb80b4ecc6451fa8eaa4c83f42dc40",
            "placeholder": "​",
            "style": "IPY_MODEL_1f25894b65ad49e3a3785b8a60f781a7",
            "value": "model.safetensors: 100%"
          }
        },
        "69b701bc1bc14be18c5744878e57f43e": {
          "model_module": "@jupyter-widgets/controls",
          "model_name": "FloatProgressModel",
          "model_module_version": "1.5.0",
          "state": {
            "_dom_classes": [],
            "_model_module": "@jupyter-widgets/controls",
            "_model_module_version": "1.5.0",
            "_model_name": "FloatProgressModel",
            "_view_count": null,
            "_view_module": "@jupyter-widgets/controls",
            "_view_module_version": "1.5.0",
            "_view_name": "ProgressView",
            "bar_style": "success",
            "description": "",
            "description_tooltip": null,
            "layout": "IPY_MODEL_5ac0c071c18e44cd8e757d52aae62710",
            "max": 10672390984,
            "min": 0,
            "orientation": "horizontal",
            "style": "IPY_MODEL_81f5bf940eb6462394d39d5127358615",
            "value": 10672390984
          }
        },
        "fdbbe24afc9746c2ab2f0984f20e05cd": {
          "model_module": "@jupyter-widgets/controls",
          "model_name": "HTMLModel",
          "model_module_version": "1.5.0",
          "state": {
            "_dom_classes": [],
            "_model_module": "@jupyter-widgets/controls",
            "_model_module_version": "1.5.0",
            "_model_name": "HTMLModel",
            "_view_count": null,
            "_view_module": "@jupyter-widgets/controls",
            "_view_module_version": "1.5.0",
            "_view_name": "HTMLView",
            "description": "",
            "description_tooltip": null,
            "layout": "IPY_MODEL_c30da1a5717d469399c0c95b1d54810b",
            "placeholder": "​",
            "style": "IPY_MODEL_81720171f21f420cb793c115d4b9f6c3",
            "value": " 10.7G/10.7G [01:59&lt;00:00, 132MB/s]"
          }
        },
        "fd64960d8f234a3a965e94c6c88bcf7d": {
          "model_module": "@jupyter-widgets/base",
          "model_name": "LayoutModel",
          "model_module_version": "1.2.0",
          "state": {
            "_model_module": "@jupyter-widgets/base",
            "_model_module_version": "1.2.0",
            "_model_name": "LayoutModel",
            "_view_count": null,
            "_view_module": "@jupyter-widgets/base",
            "_view_module_version": "1.2.0",
            "_view_name": "LayoutView",
            "align_content": null,
            "align_items": null,
            "align_self": null,
            "border": null,
            "bottom": null,
            "display": null,
            "flex": null,
            "flex_flow": null,
            "grid_area": null,
            "grid_auto_columns": null,
            "grid_auto_flow": null,
            "grid_auto_rows": null,
            "grid_column": null,
            "grid_gap": null,
            "grid_row": null,
            "grid_template_areas": null,
            "grid_template_columns": null,
            "grid_template_rows": null,
            "height": null,
            "justify_content": null,
            "justify_items": null,
            "left": null,
            "margin": null,
            "max_height": null,
            "max_width": null,
            "min_height": null,
            "min_width": null,
            "object_fit": null,
            "object_position": null,
            "order": null,
            "overflow": null,
            "overflow_x": null,
            "overflow_y": null,
            "padding": null,
            "right": null,
            "top": null,
            "visibility": null,
            "width": null
          }
        },
        "0cdb80b4ecc6451fa8eaa4c83f42dc40": {
          "model_module": "@jupyter-widgets/base",
          "model_name": "LayoutModel",
          "model_module_version": "1.2.0",
          "state": {
            "_model_module": "@jupyter-widgets/base",
            "_model_module_version": "1.2.0",
            "_model_name": "LayoutModel",
            "_view_count": null,
            "_view_module": "@jupyter-widgets/base",
            "_view_module_version": "1.2.0",
            "_view_name": "LayoutView",
            "align_content": null,
            "align_items": null,
            "align_self": null,
            "border": null,
            "bottom": null,
            "display": null,
            "flex": null,
            "flex_flow": null,
            "grid_area": null,
            "grid_auto_columns": null,
            "grid_auto_flow": null,
            "grid_auto_rows": null,
            "grid_column": null,
            "grid_gap": null,
            "grid_row": null,
            "grid_template_areas": null,
            "grid_template_columns": null,
            "grid_template_rows": null,
            "height": null,
            "justify_content": null,
            "justify_items": null,
            "left": null,
            "margin": null,
            "max_height": null,
            "max_width": null,
            "min_height": null,
            "min_width": null,
            "object_fit": null,
            "object_position": null,
            "order": null,
            "overflow": null,
            "overflow_x": null,
            "overflow_y": null,
            "padding": null,
            "right": null,
            "top": null,
            "visibility": null,
            "width": null
          }
        },
        "1f25894b65ad49e3a3785b8a60f781a7": {
          "model_module": "@jupyter-widgets/controls",
          "model_name": "DescriptionStyleModel",
          "model_module_version": "1.5.0",
          "state": {
            "_model_module": "@jupyter-widgets/controls",
            "_model_module_version": "1.5.0",
            "_model_name": "DescriptionStyleModel",
            "_view_count": null,
            "_view_module": "@jupyter-widgets/base",
            "_view_module_version": "1.2.0",
            "_view_name": "StyleView",
            "description_width": ""
          }
        },
        "5ac0c071c18e44cd8e757d52aae62710": {
          "model_module": "@jupyter-widgets/base",
          "model_name": "LayoutModel",
          "model_module_version": "1.2.0",
          "state": {
            "_model_module": "@jupyter-widgets/base",
            "_model_module_version": "1.2.0",
            "_model_name": "LayoutModel",
            "_view_count": null,
            "_view_module": "@jupyter-widgets/base",
            "_view_module_version": "1.2.0",
            "_view_name": "LayoutView",
            "align_content": null,
            "align_items": null,
            "align_self": null,
            "border": null,
            "bottom": null,
            "display": null,
            "flex": null,
            "flex_flow": null,
            "grid_area": null,
            "grid_auto_columns": null,
            "grid_auto_flow": null,
            "grid_auto_rows": null,
            "grid_column": null,
            "grid_gap": null,
            "grid_row": null,
            "grid_template_areas": null,
            "grid_template_columns": null,
            "grid_template_rows": null,
            "height": null,
            "justify_content": null,
            "justify_items": null,
            "left": null,
            "margin": null,
            "max_height": null,
            "max_width": null,
            "min_height": null,
            "min_width": null,
            "object_fit": null,
            "object_position": null,
            "order": null,
            "overflow": null,
            "overflow_x": null,
            "overflow_y": null,
            "padding": null,
            "right": null,
            "top": null,
            "visibility": null,
            "width": null
          }
        },
        "81f5bf940eb6462394d39d5127358615": {
          "model_module": "@jupyter-widgets/controls",
          "model_name": "ProgressStyleModel",
          "model_module_version": "1.5.0",
          "state": {
            "_model_module": "@jupyter-widgets/controls",
            "_model_module_version": "1.5.0",
            "_model_name": "ProgressStyleModel",
            "_view_count": null,
            "_view_module": "@jupyter-widgets/base",
            "_view_module_version": "1.2.0",
            "_view_name": "StyleView",
            "bar_color": null,
            "description_width": ""
          }
        },
        "c30da1a5717d469399c0c95b1d54810b": {
          "model_module": "@jupyter-widgets/base",
          "model_name": "LayoutModel",
          "model_module_version": "1.2.0",
          "state": {
            "_model_module": "@jupyter-widgets/base",
            "_model_module_version": "1.2.0",
            "_model_name": "LayoutModel",
            "_view_count": null,
            "_view_module": "@jupyter-widgets/base",
            "_view_module_version": "1.2.0",
            "_view_name": "LayoutView",
            "align_content": null,
            "align_items": null,
            "align_self": null,
            "border": null,
            "bottom": null,
            "display": null,
            "flex": null,
            "flex_flow": null,
            "grid_area": null,
            "grid_auto_columns": null,
            "grid_auto_flow": null,
            "grid_auto_rows": null,
            "grid_column": null,
            "grid_gap": null,
            "grid_row": null,
            "grid_template_areas": null,
            "grid_template_columns": null,
            "grid_template_rows": null,
            "height": null,
            "justify_content": null,
            "justify_items": null,
            "left": null,
            "margin": null,
            "max_height": null,
            "max_width": null,
            "min_height": null,
            "min_width": null,
            "object_fit": null,
            "object_position": null,
            "order": null,
            "overflow": null,
            "overflow_x": null,
            "overflow_y": null,
            "padding": null,
            "right": null,
            "top": null,
            "visibility": null,
            "width": null
          }
        },
        "81720171f21f420cb793c115d4b9f6c3": {
          "model_module": "@jupyter-widgets/controls",
          "model_name": "DescriptionStyleModel",
          "model_module_version": "1.5.0",
          "state": {
            "_model_module": "@jupyter-widgets/controls",
            "_model_module_version": "1.5.0",
            "_model_name": "DescriptionStyleModel",
            "_view_count": null,
            "_view_module": "@jupyter-widgets/base",
            "_view_module_version": "1.2.0",
            "_view_name": "StyleView",
            "description_width": ""
          }
        }
      }
    }
  },
  "cells": [
    {
      "cell_type": "markdown",
      "source": [
        "The main idea is to use scrapers to get concentrated content, and only then create a prompt for the language model. And then see how and in which direction the generation differs.\n",
        "\n",
        "For example, web-scrapping of similar sites is taken.\n",
        "\n",
        "The results are still mixed - Firecrawl scraper has run out of free tokens, Scrapegraph-ai has not been added (open source plus visual graph visualization). Also, now GPT4-o API requires constant authorization via phone, which is problematic to do from Russia, so it was replaced by GPT-2"
      ],
      "metadata": {
        "id": "ATiByeBjtG1A"
      }
    },
    {
      "cell_type": "markdown",
      "source": [
        "## Setup test: Get competitors' pricing"
      ],
      "metadata": {
        "id": "9My-G2T0ZCN0"
      }
    },
    {
      "cell_type": "code",
      "source": [
        "competitor_sites = [\n",
        "    {\n",
        "        \"name\": \"Articulate 360 by Adobe\",\n",
        "        \"url\": \"https://www.articulate.com/360/pricing/freelancers\"\n",
        "    },\n",
        "    {\n",
        "        \"name\": \"7taps\",\n",
        "        \"url\": \"https://www.7taps.com/pricing\"\n",
        "    },\n",
        "    {\n",
        "        \"name\": \"Mindsmith AI\",\n",
        "        \"url\": \"https://www.mindsmith.ai/pricing\"\n",
        "    },\n",
        "    {\n",
        "        \"name\": \"Cards-microlearning\",\n",
        "        \"url\": \"https://www.cards-microlearning.com/en/tarifs\"\n",
        "    },\n",
        "]"
      ],
      "metadata": {
        "id": "5svJvWdJZPMw"
      },
      "execution_count": 1,
      "outputs": []
    },
    {
      "cell_type": "markdown",
      "source": [
        "### Setup cost calculations"
      ],
      "metadata": {
        "id": "uH7ec-0ddM8X"
      }
    },
    {
      "cell_type": "markdown",
      "source": [
        "We can calculate how much it'll cost by using OpenAI's `tiktoken` library.\n",
        "\n",
        "P.S. as of today, OpenAI hasn't updated `tiktoken` with the actual algorithm used to in `gpt-4o`, so we'll guesstimate using `gpt-4` tokenization encoding (cl100k_base)."
      ],
      "metadata": {
        "id": "QJWAErlShOZ7"
      }
    },
    {
      "cell_type": "code",
      "source": [
        "pip install tiktoken --quiet"
      ],
      "metadata": {
        "id": "SNMRdbmWhe6D",
        "colab": {
          "base_uri": "https://localhost:8080/"
        },
        "outputId": "fc713e0c-5357-4f5f-fb48-4e826edcaaf2"
      },
      "execution_count": 2,
      "outputs": [
        {
          "output_type": "stream",
          "name": "stdout",
          "text": [
            "\u001b[?25l     \u001b[90m━━━━━━━━━━━━━━━━━━━━━━━━━━━━━━━━━━━━━━━━\u001b[0m \u001b[32m0.0/1.1 MB\u001b[0m \u001b[31m?\u001b[0m eta \u001b[36m-:--:--\u001b[0m\r\u001b[2K     \u001b[91m━━━━━━━━━━\u001b[0m\u001b[91m╸\u001b[0m\u001b[90m━━━━━━━━━━━━━━━━━━━━━━━━━━━━━\u001b[0m \u001b[32m0.3/1.1 MB\u001b[0m \u001b[31m8.7 MB/s\u001b[0m eta \u001b[36m0:00:01\u001b[0m\r\u001b[2K     \u001b[91m━━━━━━━━━━━━━━━━━━━━━━━━━━━━━━━━━\u001b[0m\u001b[91m╸\u001b[0m\u001b[90m━━━━━━\u001b[0m \u001b[32m0.9/1.1 MB\u001b[0m \u001b[31m12.1 MB/s\u001b[0m eta \u001b[36m0:00:01\u001b[0m\r\u001b[2K     \u001b[90m━━━━━━━━━━━━━━━━━━━━━━━━━━━━━━━━━━━━━━━━\u001b[0m \u001b[32m1.1/1.1 MB\u001b[0m \u001b[31m10.2 MB/s\u001b[0m eta \u001b[36m0:00:00\u001b[0m\n",
            "\u001b[?25h"
          ]
        }
      ]
    },
    {
      "cell_type": "code",
      "source": [
        "import tiktoken\n",
        "\n",
        "def count_tokens(input_string: str) -> int:\n",
        "    tokenizer = tiktoken.get_encoding(\"cl100k_base\")\n",
        "\n",
        "    tokens = tokenizer.encode(input_string)\n",
        "\n",
        "    return len(tokens)\n",
        "\n",
        "def calculate_cost(input_string: str, cost_per_million_tokens: float = 5) -> float:\n",
        "    num_tokens = count_tokens(input_string)\n",
        "\n",
        "    total_cost = (num_tokens / 1_000_000) * cost_per_million_tokens\n",
        "\n",
        "    return total_cost\n",
        "\n",
        "# Example usage:\n",
        "input_string = \"What's the difference between beer nuts and deer nuts? Beer nuts are about 5 dollars. Deer nuts are just under a buck.\"\n",
        "cost = calculate_cost(input_string)\n",
        "print(f\"The total cost for using gpt-4o is: $US {cost:.6f}\")"
      ],
      "metadata": {
        "id": "hGspe9jidY2t",
        "colab": {
          "base_uri": "https://localhost:8080/"
        },
        "outputId": "117a988c-312a-4b50-d319-fd0b9205d313"
      },
      "execution_count": 3,
      "outputs": [
        {
          "output_type": "stream",
          "name": "stdout",
          "text": [
            "The total cost for using gpt-4o is: $US 0.000135\n"
          ]
        }
      ]
    },
    {
      "cell_type": "code",
      "source": [
        "pip install prettytable tqdm --quiet"
      ],
      "metadata": {
        "id": "sIu1-oLziuPO"
      },
      "execution_count": 4,
      "outputs": []
    },
    {
      "cell_type": "code",
      "source": [
        "from typing import List, Callable, Dict\n",
        "from prettytable import PrettyTable, ALL\n",
        "from tqdm import tqdm\n",
        "\n",
        "def view_scraped_content(scrape_url_functions: List[Dict[str, Callable[[str], str]]], sites_list: List[Dict[str, str]], characters_to_display: int = 500, table_max_width: int = 50) -> List[Dict[str, str]]:\n",
        "    content_table_headers = [\"Site Name\"] + [f\"{func['name']} content\" for func in scrape_url_functions]\n",
        "    cost_table_headers = [\"Site Name\"] + [f\"{func['name']} cost\" for func in scrape_url_functions]\n",
        "\n",
        "    content_table = PrettyTable()\n",
        "    content_table.field_names = content_table_headers\n",
        "\n",
        "    cost_table = PrettyTable()\n",
        "    cost_table.field_names = cost_table_headers\n",
        "\n",
        "    scraped_data = []\n",
        "\n",
        "    for site in sites_list:\n",
        "        content_row = [site['name']]\n",
        "        cost_row = [site['name']]\n",
        "        site_data = {\"provider\": site['name'], \"sites\": []}\n",
        "\n",
        "        for scrape_function in scrape_url_functions:\n",
        "            function_name = scrape_function['name']\n",
        "            for _ in tqdm([site], desc=f\"Processing site {site['name']} using {function_name}\"):\n",
        "                try:\n",
        "                    content = scrape_function['function'](site['url'])\n",
        "                    content_snippet = content[:characters_to_display]\n",
        "                    content_row.append(content_snippet)\n",
        "\n",
        "                    cost = calculate_cost(content)\n",
        "                    cost_row.append(f\"${cost:.6f}\")\n",
        "\n",
        "                    site_data[\"sites\"].append({\"name\": function_name, \"content\": content})\n",
        "                except Exception as e:\n",
        "                    error_message = f\"Error: {str(e)}\"\n",
        "                    content_row.append(error_message)\n",
        "                    cost_row.append(\"Error\")\n",
        "\n",
        "                    site_data[\"sites\"].append({\"name\": function_name, \"content\": error_message})\n",
        "                    continue\n",
        "\n",
        "        content_table.add_row(content_row)\n",
        "        cost_table.add_row(cost_row)\n",
        "        scraped_data.append(site_data)\n",
        "\n",
        "    content_table.max_width = table_max_width\n",
        "    content_table.hrules = ALL\n",
        "\n",
        "    cost_table.max_width = table_max_width\n",
        "    cost_table.hrules = ALL\n",
        "\n",
        "    print(\"Content Table:\")\n",
        "    print(content_table)\n",
        "\n",
        "    print(\"\\nCost Table:\\nThis is how much it would cost to use gpt-4o to parse this content for extraction.\")\n",
        "    print(cost_table)\n",
        "\n",
        "    return scraped_data"
      ],
      "metadata": {
        "id": "K593G9Xh8Lln"
      },
      "execution_count": 5,
      "outputs": []
    },
    {
      "cell_type": "markdown",
      "source": [
        "## Setup all the scrapers"
      ],
      "metadata": {
        "id": "cqfJC7InYcm5"
      }
    },
    {
      "cell_type": "markdown",
      "source": [
        "### Beautiful Soup"
      ],
      "metadata": {
        "id": "LMx4qMhlcnOA"
      }
    },
    {
      "cell_type": "code",
      "source": [
        "pip install requests beautifulsoup4 --quiet"
      ],
      "metadata": {
        "id": "mtEoxl-j4wvf"
      },
      "execution_count": 6,
      "outputs": []
    },
    {
      "cell_type": "code",
      "source": [
        "import requests\n",
        "from bs4 import BeautifulSoup\n",
        "\n",
        "def beautiful_soup_scrape_url(url: str):\n",
        "    response = requests.get(url)\n",
        "    soup = BeautifulSoup(response.content, 'html.parser')\n",
        "    return str(soup)\n"
      ],
      "metadata": {
        "id": "jqwpe5AuZBYA"
      },
      "execution_count": 7,
      "outputs": []
    },
    {
      "cell_type": "markdown",
      "source": [
        "### Reader API by Jina AI"
      ],
      "metadata": {
        "id": "5JzWHcoCc1uC"
      }
    },
    {
      "cell_type": "code",
      "source": [
        "import requests\n",
        "\n",
        "def scrape_jina_ai(url: str) -> str:\n",
        "  response = requests.get(\"https://r.jina.ai/\" + url)\n",
        "  return response.text"
      ],
      "metadata": {
        "id": "5ccgu2JZc4xL"
      },
      "execution_count": 8,
      "outputs": []
    },
    {
      "cell_type": "markdown",
      "source": [
        "### Firecrawl from Mendable."
      ],
      "metadata": {
        "id": "xhGYMijjNrvF"
      }
    },
    {
      "cell_type": "code",
      "source": [
        "pip install firecrawl-py --quiet"
      ],
      "metadata": {
        "id": "c59LRZZ-NtuR"
      },
      "execution_count": 9,
      "outputs": []
    },
    {
      "cell_type": "code",
      "source": [
        "import firecrawl\n",
        "import getpass\n",
        "\n",
        "FIRECRAWL_API_KEY = getpass.getpass(\"Mendable API Key: \")\n",
        "\n",
        "def scrape_firecrawl(url: str):\n",
        "    app = firecrawl.FirecrawlApp(api_key=FIRECRAWL_API_KEY)\n",
        "    scraped_data = app.scrape_url(url)[\"markdown\"]\n",
        "    return scraped_data"
      ],
      "metadata": {
        "id": "-AuHJTiwOQID",
        "colab": {
          "base_uri": "https://localhost:8080/"
        },
        "outputId": "bb65d092-9cbd-45b3-d9a2-a7f3753980d3"
      },
      "execution_count": 10,
      "outputs": [
        {
          "name": "stdout",
          "output_type": "stream",
          "text": [
            "Mendable API Key: ··········\n"
          ]
        }
      ]
    },
    {
      "cell_type": "markdown",
      "source": [
        "## Scrapers comparison table"
      ],
      "metadata": {
        "id": "uEfyleLPaTY5"
      }
    },
    {
      "cell_type": "code",
      "source": [
        "list_of_scraper_functions = [\n",
        "      {\"name\": \"Beautiful Soup\", \"function\": beautiful_soup_scrape_url},\n",
        "      {\"name\": \"Firecrawl\", \"function\": scrape_firecrawl},\n",
        "      {\"name\": \"Jina AI\", \"function\": scrape_jina_ai}\n",
        "      ]\n",
        "\n",
        "all_content = view_scraped_content(list_of_scraper_functions, competitor_sites, 200, 20)"
      ],
      "metadata": {
        "collapsed": true,
        "id": "tl8T54D69ojR",
        "colab": {
          "base_uri": "https://localhost:8080/"
        },
        "outputId": "38bdabf5-53eb-4026-a190-c90d0da717b3"
      },
      "execution_count": 11,
      "outputs": [
        {
          "output_type": "stream",
          "name": "stderr",
          "text": [
            "Processing site Articulate 360 by Adobe using Beautiful Soup: 100%|██████████| 1/1 [00:00<00:00,  3.18it/s]\n",
            "Processing site Articulate 360 by Adobe using Firecrawl: 100%|██████████| 1/1 [00:11<00:00, 11.54s/it]\n",
            "Processing site Articulate 360 by Adobe using Jina AI: 100%|██████████| 1/1 [00:04<00:00,  4.06s/it]\n",
            "Processing site 7taps using Beautiful Soup: 100%|██████████| 1/1 [00:00<00:00,  4.12it/s]\n",
            "Processing site 7taps using Firecrawl: 100%|██████████| 1/1 [00:04<00:00,  4.92s/it]\n",
            "Processing site 7taps using Jina AI: 100%|██████████| 1/1 [00:01<00:00,  1.10s/it]\n",
            "Processing site Mindsmith AI using Beautiful Soup: 100%|██████████| 1/1 [00:00<00:00,  2.50it/s]\n",
            "Processing site Mindsmith AI using Firecrawl: 100%|██████████| 1/1 [00:03<00:00,  3.81s/it]\n",
            "Processing site Mindsmith AI using Jina AI: 100%|██████████| 1/1 [00:01<00:00,  1.12s/it]\n",
            "Processing site Cards-microlearning using Beautiful Soup: 100%|██████████| 1/1 [00:00<00:00,  3.58it/s]\n",
            "Processing site Cards-microlearning using Firecrawl: 100%|██████████| 1/1 [00:03<00:00,  3.29s/it]\n",
            "Processing site Cards-microlearning using Jina AI: 100%|██████████| 1/1 [00:03<00:00,  3.50s/it]"
          ]
        },
        {
          "output_type": "stream",
          "name": "stdout",
          "text": [
            "Content Table:\n",
            "+----------------------+------------------------+----------------------+----------------------+\n",
            "|      Site Name       | Beautiful Soup content |  Firecrawl content   |   Jina AI content    |\n",
            "+----------------------+------------------------+----------------------+----------------------+\n",
            "|  Articulate 360 by   |         <html>         |    [Skip to main     |  Title: Freelancer   |\n",
            "|        Adobe         | <head><title>403 Forbi |  content](#content)  |     Pricing for      |\n",
            "|                      |  dden</title></head>   |                      |   Articulate 360 -   |\n",
            "|                      |         <body>         | [![Articulate](https | Everything You Need  |\n",
            "|                      | <center><h1>403 Forbid | ://www.articulate.co | to Create E‑Learning |\n",
            "|                      |   den</h1></center>    | m/wp-content/uploads |                      |\n",
            "|                      | <hr/><center>nginx</ce | /2023/06/articulate- | URL Source: https:// |\n",
            "|                      |         nter>          | logo.svg)](https://w | www.articulate.com/3 |\n",
            "|                      |        </body>         | ww.articulate.com/)  | 60/pricing/freelance |\n",
            "|                      |        </html>         |                      |          rs          |\n",
            "|                      |                        | *   [Products](https |                      |\n",
            "|                      |                        | ://www.articulate.co |  Markdown Content:   |\n",
            "|                      |                        |        m/360         |  Our personal plan   |\n",
            "|                      |                        |                      |     includes ev      |\n",
            "+----------------------+------------------------+----------------------+----------------------+\n",
            "|        7taps         |    <!DOCTYPE html>     |  [MicrolearningCONF  | Title: 7taps pricing |\n",
            "|                      |  <!-- Last Published:  | ep.14  |  Book a FRE |        plans         |\n",
            "|                      |    Tue Jul 02 2024     | E seat →](https://ww |                      |\n",
            "|                      |   17:25:50 GMT+0000    | w.microlearningconf. | URL Source: https:// |\n",
            "|                      | (Coordinated Universal |         com)         | www.7taps.com/pricin |\n",
            "|                      |  Time) --><html data-  |                      |          g           |\n",
            "|                      |          wf-           | [![](https://cdn.pro |                      |\n",
            "|                      | domain=\"www.7taps.com\" | d.website-files.com/ |  Markdown Content:   |\n",
            "|                      | data-wf-page=\"6210eab9 | 6040dae83112172e5cc9 |     How is 7taps     |\n",
            "|                      |   77ab3b4dedf4d5f1\"    | b16f/65c262c6c8b053c | different from other |\n",
            "|                      |  data-wf-site=\"6040da  | 756732bba_Frame.webp |    microlearning     |\n",
            "|                      |                        |   )![](https://cd    |       vendors?       |\n",
            "|                      |                        |                      |                      |\n",
            "|                      |                        |                      |         add          |\n",
            "|                      |                        |                      |                      |\n",
            "|                      |                        |                      | 7taps pioneered the  |\n",
            "|                      |                        |                      | concept of effective |\n",
            "|                      |                        |                      |       microle        |\n",
            "+----------------------+------------------------+----------------------+----------------------+\n",
            "|     Mindsmith AI     |    <!DOCTYPE html>     | [![](https://cdn.pro |    Title: Pricing    |\n",
            "|                      |   <!-- This site was   | d.website-files.com/ |                      |\n",
            "|                      |  created in Webflow.   | 63210902df3949e6e16c | URL Source: https:// |\n",
            "|                      |  https://webflow.com   | b030/64653794e115e4a | www.mindsmith.ai/pri |\n",
            "|                      |      --><!-- Last      | c4b553aa0_logo.svg)] |         cing         |\n",
            "|                      | Published: Mon Jul 01  |         (/)          |                      |\n",
            "|                      | 2024 14:57:17 GMT+0000 |                      |  Markdown Content:   |\n",
            "|                      | (Coordinated Universal | [Pricing](/pricing)  | ![Image 1](https://c |\n",
            "|                      |  Time) --><html data-  |   [About](/about)    | dn.prod.website-file |\n",
            "|                      |          wf-           | [Book a Demo](https: | s.com/63210902df3949 |\n",
            "|                      | domain=\"www.mindsmith  | //app.apollo.io/#/me | e6e16cb030/65675d24c |\n",
            "|                      |                        | et/ethan_webb_63c/d  | 236608822d95212_Feat |\n",
            "|                      |                        |                      | ured%20icon%20Free.p |\n",
            "+----------------------+------------------------+----------------------+----------------------+\n",
            "| Cards-microlearning  |    <!DOCTYPE html>     | [![Logo Cards micro- |    Title: Micro-     |\n",
            "|                      |  <!-- Last Published:  | learning](https://cd | learning cards from  |\n",
            "|                      |    Thu Jul 04 2024     | n.prod.website-files | €89 | IA | Learning  |\n",
            "|                      |   13:49:28 GMT+0000    | .com/642b30c7daf3c91 |       Routine®       |\n",
            "|                      | (Coordinated Universal | 85c06eaca/642b311ae5 |                      |\n",
            "|                      |  Time) --><html data-  | 7799309b8fc2df_Logo- |     URL Source:      |\n",
            "|                      | wf-domain=\"www.cards-  | Cards-Horizontal_Noi | https://www.cards-mi |\n",
            "|                      |   microlearning.com\"   |     r.png)](/en)     | crolearning.com/en/t |\n",
            "|                      | data-wf-page=\"6446e0b1 |                      |        arifs         |\n",
            "|                      |   2b3fc3ef452f4a94\"    |       Platform       |                      |\n",
            "|                      |         data-w         |                      |  Markdown Content:   |\n",
            "|                      |                        | [Functionalities](/e | Micro-learning cards |\n",
            "|                      |                        |   n/plateforme-lms   |   from €89 | IA |    |\n",
            "|                      |                        |                      |  Learning Routine®   |\n",
            "|                      |                        |                      |        =====         |\n",
            "+----------------------+------------------------+----------------------+----------------------+\n",
            "\n",
            "Cost Table:\n",
            "This is how much it would cost to use gpt-4o to parse this content for extraction.\n",
            "+----------------------+---------------------+----------------+--------------+\n",
            "|      Site Name       | Beautiful Soup cost | Firecrawl cost | Jina AI cost |\n",
            "+----------------------+---------------------+----------------+--------------+\n",
            "|  Articulate 360 by   |      $0.000210      |   $0.019915    |  $0.008025   |\n",
            "|        Adobe         |                     |                |              |\n",
            "+----------------------+---------------------+----------------+--------------+\n",
            "|        7taps         |      $0.084810      |   $0.017745    |  $0.005745   |\n",
            "+----------------------+---------------------+----------------+--------------+\n",
            "|     Mindsmith AI     |      $0.205235      |   $0.022095    |  $0.018455   |\n",
            "+----------------------+---------------------+----------------+--------------+\n",
            "| Cards-microlearning  |      $0.136875      |   $0.034195    |  $0.037465   |\n",
            "+----------------------+---------------------+----------------+--------------+\n"
          ]
        },
        {
          "output_type": "stream",
          "name": "stderr",
          "text": [
            "\n"
          ]
        }
      ]
    },
    {
      "cell_type": "markdown",
      "source": [
        "## OpenAI -> GPT-2\n",
        "\n"
      ],
      "metadata": {
        "id": "cH3WfAO3LAoP"
      }
    },
    {
      "cell_type": "code",
      "source": [
        "pip install openai --quiet"
      ],
      "metadata": {
        "id": "tyWh8eUVLQ1n",
        "colab": {
          "base_uri": "https://localhost:8080/"
        },
        "outputId": "f1984650-e797-4b8c-c359-779255ca01e5"
      },
      "execution_count": 12,
      "outputs": [
        {
          "output_type": "stream",
          "name": "stdout",
          "text": [
            "\u001b[2K     \u001b[90m━━━━━━━━━━━━━━━━━━━━━━━━━━━━━━━━━━━━━━━━\u001b[0m \u001b[32m328.3/328.3 kB\u001b[0m \u001b[31m6.8 MB/s\u001b[0m eta \u001b[36m0:00:00\u001b[0m\n",
            "\u001b[2K     \u001b[90m━━━━━━━━━━━━━━━━━━━━━━━━━━━━━━━━━━━━━━━━\u001b[0m \u001b[32m75.6/75.6 kB\u001b[0m \u001b[31m6.3 MB/s\u001b[0m eta \u001b[36m0:00:00\u001b[0m\n",
            "\u001b[2K     \u001b[90m━━━━━━━━━━━━━━━━━━━━━━━━━━━━━━━━━━━━━━━━\u001b[0m \u001b[32m77.9/77.9 kB\u001b[0m \u001b[31m5.3 MB/s\u001b[0m eta \u001b[36m0:00:00\u001b[0m\n",
            "\u001b[2K     \u001b[90m━━━━━━━━━━━━━━━━━━━━━━━━━━━━━━━━━━━━━━━━\u001b[0m \u001b[32m58.3/58.3 kB\u001b[0m \u001b[31m8.4 MB/s\u001b[0m eta \u001b[36m0:00:00\u001b[0m\n",
            "\u001b[?25h"
          ]
        }
      ]
    },
    {
      "cell_type": "code",
      "source": [
        "import getpass\n",
        "from openai import OpenAI\n",
        "\n",
        "# NEED OPENAI VERIFICATION\n",
        "#OPENAI_API_KEY = getpass.getpass('Enter your OpenAI API key: ')\n",
        "#\n",
        "#client = OpenAI(api_key=OPENAI_API_KEY)\n",
        "#\n",
        "#def extract(user_input: str):\n",
        "#  entity_extraction_system_message = {\"role\": \"system\", \"content\": \"Get me the three pricing tiers from this website's content, and return as a JSON with three keys: {cheapest: {name: str, price: float}, middle: {name: str, price: float}, most_expensive: {name: str, price: float}}\"}\n",
        "#\n",
        "#  messages = [entity_extraction_system_message]\n",
        "#  messages.append({\"role\": \"user\", \"content\": user_input})\n",
        "#\n",
        "#  response = client.chat.completions.create(\n",
        "#        model=\"gpt-4o\",\n",
        "#        messages=messages,\n",
        "#        stream=False,\n",
        "#        response_format={\"type\": \"json_object\"}\n",
        "#    )\n",
        "#\n",
        "#  return response.choices[0].message.content"
      ],
      "metadata": {
        "id": "F9CfGvaYNi7F"
      },
      "execution_count": 13,
      "outputs": []
    },
    {
      "cell_type": "markdown",
      "source": [
        "Heavy GPT-2"
      ],
      "metadata": {
        "id": "Da0-lp9ni0ur"
      }
    },
    {
      "cell_type": "code",
      "source": [
        "from transformers import pipeline, GPT2Tokenizer, GPT2LMHeadModel\n",
        "import json\n",
        "\n",
        "def extract(user_input: str) -> dict:\n",
        "    entity_extraction_system_message = (\n",
        "        \"Extract the three pricing tiers from the given content and return as JSON with keys: \"\n",
        "        \"{cheapest: {name: str, price: float}, middle: {name: str, price: float}, most_expensive: {name: str, price: float}}. \"\n",
        "        \"Content: \"\n",
        "    )\n",
        "\n",
        "    # Load a text generation pipeline with a more advanced model\n",
        "    model_name = 'EleutherAI/gpt-neo-2.7B'\n",
        "    generator = pipeline('text-generation', model=model_name)\n",
        "    tokenizer = GPT2Tokenizer.from_pretrained(model_name)\n",
        "\n",
        "    # Concatenate the system message and user input\n",
        "    prompt = entity_extraction_system_message + user_input\n",
        "\n",
        "    # Tokenize the input\n",
        "    input_ids = tokenizer.encode(prompt, return_tensors='pt', truncation=True, max_length=1024)\n",
        "\n",
        "    # Generate the response\n",
        "    response = generator(prompt, max_new_tokens=150)\n",
        "\n",
        "    # Parse the response\n",
        "    content = response[0]['generated_text']\n",
        "\n",
        "    # Extract the JSON part of the generated text\n",
        "    try:\n",
        "        pricing_data = json.loads(content[content.index('{'):content.rindex('}')+1])\n",
        "    except (ValueError, json.JSONDecodeError):\n",
        "        pricing_data = {\"cheapest\": {\"name\": \"\", \"price\": 0.0}, \"middle\": {\"name\": \"\", \"price\": 0.0}, \"most_expensive\": {\"name\": \"\", \"price\": 0.0}}\n",
        "\n",
        "    return pricing_data"
      ],
      "metadata": {
        "id": "l2A33i2Xf-24"
      },
      "execution_count": 17,
      "outputs": []
    },
    {
      "cell_type": "markdown",
      "source": [
        "Light GPT-2"
      ],
      "metadata": {
        "id": "OnA0WGOfi3zR"
      }
    },
    {
      "cell_type": "code",
      "source": [
        "from transformers import pipeline, GPT2Tokenizer, GPT2LMHeadModel\n",
        "import json\n",
        "\n",
        "def extract(user_input: str) -> dict:\n",
        "    entity_extraction_system_message = (\n",
        "        \"Extract the three pricing tiers from the given content and return as JSON with keys: \"\n",
        "        \"{cheapest: {name: str, price: float}, middle: {name: str, price: float}, most_expensive: {name: str, price: float}}. \"\n",
        "        \"Content: \"\n",
        "    )\n",
        "\n",
        "    # Load a text generation pipeline with the distilgpt2 model\n",
        "    model_name = 'distilgpt2'\n",
        "    model = GPT2LMHeadModel.from_pretrained(model_name)\n",
        "    tokenizer = GPT2Tokenizer.from_pretrained(model_name)\n",
        "    generator = pipeline('text-generation', model=model, tokenizer=tokenizer)\n",
        "\n",
        "    # Concatenate the system message and user input\n",
        "    prompt = entity_extraction_system_message + user_input\n",
        "\n",
        "    # Tokenize the prompt\n",
        "    input_ids = tokenizer(prompt, return_tensors='pt', truncation=True, max_length=1024)\n",
        "\n",
        "    # Decode back to text to ensure length limit is respected\n",
        "    truncated_prompt = tokenizer.decode(input_ids['input_ids'][0])\n",
        "\n",
        "    # Generate the response\n",
        "    response = generator(truncated_prompt, max_new_tokens=150, pad_token_id=tokenizer.eos_token_id)\n",
        "\n",
        "    # Parse the response\n",
        "    content = response[0]['generated_text']\n",
        "\n",
        "    # Extract the JSON part of the generated text\n",
        "    try:\n",
        "        pricing_data = json.loads(content[content.index('{'):content.rindex('}')+1])\n",
        "    except (ValueError, json.JSONDecodeError):\n",
        "        pricing_data = {\"cheapest\": {\"name\": \"\", \"price\": 0.0}, \"middle\": {\"name\": \"\", \"price\": 0.0}, \"most_expensive\": {\"name\": \"\", \"price\": 0.0}}\n",
        "\n",
        "    return pricing_data\n"
      ],
      "metadata": {
        "id": "UYzHO8pZi5ZL"
      },
      "execution_count": 14,
      "outputs": []
    },
    {
      "cell_type": "markdown",
      "source": [
        "### Display content."
      ],
      "metadata": {
        "id": "ermtSvxSra1I"
      }
    },
    {
      "cell_type": "code",
      "source": [
        "def display_extracted_content(results: List[Dict[str, any]], num_objects: int):\n",
        "    table = PrettyTable()\n",
        "    table.field_names = [\"Site\", \"Provider Name\", \"Extracted Content\"]\n",
        "\n",
        "    # Ensure num_objects does not exceed the length of the results list\n",
        "    num_objects = min(num_objects, len(results))\n",
        "\n",
        "    # Process the specified number of items from the results list with a progress bar\n",
        "    for result in tqdm(results[:num_objects], desc=\"Processing results\"):\n",
        "        provider_name = result[\"provider\"]\n",
        "\n",
        "        for site in result[\"sites\"]:\n",
        "            function_name = site[\"name\"]\n",
        "            content = site[\"content\"]\n",
        "\n",
        "            # Progress bar for each function\n",
        "            for _ in tqdm(range(1), desc=f\"Extracting content with {provider_name} for {function_name}\"):\n",
        "                extracted_content = extract(content)\n",
        "                table.add_row([provider_name, function_name, extracted_content])\n",
        "\n",
        "    table.max_width = 50  # Set the maximum width for better display\n",
        "    table.hrules = ALL\n",
        "\n",
        "    print(\"Extracted Content Table:\")\n",
        "    print(table)"
      ],
      "metadata": {
        "id": "9XIcSACXkIvn"
      },
      "execution_count": 18,
      "outputs": []
    },
    {
      "cell_type": "code",
      "source": [
        "display_extracted_content(all_content, num_objects=9)"
      ],
      "metadata": {
        "id": "KkgYywhEqF-V",
        "colab": {
          "base_uri": "https://localhost:8080/",
          "height": 116,
          "referenced_widgets": [
            "bdad13f1e14c4d18bd1dbb836baa4925",
            "a8bf7423af3f4605bf6f76fe0579f6a2",
            "4d4d81aea1894f26bb6d0a015b63d844",
            "9165fae56048495b9d56dded660902de",
            "0dde27d8a9ee48a8a9f7d088b9147f0f",
            "268cfe5f26ac4918a8ea0642a7479be6",
            "4d2fd3ef6e6c45f5837c830e7c42109a",
            "5d39e22e4a8644bfa8e6bd7974823f66",
            "d0d2f2d16c4d4e3a8641098516f842d2",
            "06644e541aa14612aaf912294ed0e700",
            "df58856e5b34404ab1ac4d705fea44a7",
            "1528c6ce89394ba6b5d3ed2a532c4373",
            "6ffd3e3ec83b4d8f9628f891f9c43480",
            "69b701bc1bc14be18c5744878e57f43e",
            "fdbbe24afc9746c2ab2f0984f20e05cd",
            "fd64960d8f234a3a965e94c6c88bcf7d",
            "0cdb80b4ecc6451fa8eaa4c83f42dc40",
            "1f25894b65ad49e3a3785b8a60f781a7",
            "5ac0c071c18e44cd8e757d52aae62710",
            "81f5bf940eb6462394d39d5127358615",
            "c30da1a5717d469399c0c95b1d54810b",
            "81720171f21f420cb793c115d4b9f6c3"
          ]
        },
        "outputId": "855f1fab-1cfe-4527-d896-5425a2fc058b"
      },
      "execution_count": null,
      "outputs": [
        {
          "output_type": "stream",
          "name": "stderr",
          "text": [
            "Processing results:   0%|          | 0/4 [00:00<?, ?it/s]\n",
            "Extracting content with Articulate 360 by Adobe for Beautiful Soup:   0%|          | 0/1 [00:00<?, ?it/s]\u001b[A"
          ]
        },
        {
          "output_type": "display_data",
          "data": {
            "text/plain": [
              "config.json:   0%|          | 0.00/1.46k [00:00<?, ?B/s]"
            ],
            "application/vnd.jupyter.widget-view+json": {
              "version_major": 2,
              "version_minor": 0,
              "model_id": "bdad13f1e14c4d18bd1dbb836baa4925"
            }
          },
          "metadata": {}
        },
        {
          "output_type": "display_data",
          "data": {
            "text/plain": [
              "model.safetensors:   0%|          | 0.00/10.7G [00:00<?, ?B/s]"
            ],
            "application/vnd.jupyter.widget-view+json": {
              "version_major": 2,
              "version_minor": 0,
              "model_id": "1528c6ce89394ba6b5d3ed2a532c4373"
            }
          },
          "metadata": {}
        }
      ]
    },
    {
      "cell_type": "code",
      "source": [
        "display_extracted_content(all_content, num_objects=9)"
      ],
      "metadata": {
        "colab": {
          "base_uri": "https://localhost:8080/"
        },
        "outputId": "4eeb9031-4716-4105-f848-659c6707992c",
        "id": "NhxJqAm1pSF6"
      },
      "execution_count": null,
      "outputs": [
        {
          "output_type": "stream",
          "name": "stderr",
          "text": [
            "Processing results:   0%|          | 0/4 [00:00<?, ?it/s]\n",
            "Extracting content with Articulate 360 by Adobe for Beautiful Soup:   0%|          | 0/1 [00:00<?, ?it/s]\u001b[A\n",
            "Extracting content with Articulate 360 by Adobe for Beautiful Soup: 100%|██████████| 1/1 [00:01<00:00,  1.42s/it]\n",
            "\n",
            "Extracting content with Articulate 360 by Adobe for Firecrawl:   0%|          | 0/1 [00:00<?, ?it/s]\u001b[A\n",
            "Extracting content with Articulate 360 by Adobe for Firecrawl: 100%|██████████| 1/1 [00:01<00:00,  1.72s/it]\n",
            "\n",
            "Extracting content with Articulate 360 by Adobe for Jina AI:   0%|          | 0/1 [00:00<?, ?it/s]\u001b[A\n",
            "Extracting content with Articulate 360 by Adobe for Jina AI: 100%|██████████| 1/1 [00:01<00:00,  1.55s/it]\n",
            "Processing results:  25%|██▌       | 1/4 [00:04<00:14,  4.72s/it]\n",
            "Extracting content with 7taps for Beautiful Soup:   0%|          | 0/1 [00:00<?, ?it/s]\u001b[A\n",
            "Extracting content with 7taps for Beautiful Soup: 100%|██████████| 1/1 [00:02<00:00,  2.44s/it]\n",
            "\n",
            "Extracting content with 7taps for Firecrawl:   0%|          | 0/1 [00:00<?, ?it/s]\u001b[A\n",
            "Extracting content with 7taps for Firecrawl: 100%|██████████| 1/1 [00:01<00:00,  1.27s/it]\n",
            "\n",
            "Extracting content with 7taps for Jina AI:   0%|          | 0/1 [00:00<?, ?it/s]\u001b[A\n",
            "Extracting content with 7taps for Jina AI: 100%|██████████| 1/1 [00:01<00:00,  1.29s/it]\n",
            "Processing results:  50%|█████     | 2/4 [00:09<00:09,  4.90s/it]\n",
            "Extracting content with Mindsmith AI for Beautiful Soup:   0%|          | 0/1 [00:00<?, ?it/s]\u001b[A\n",
            "Extracting content with Mindsmith AI for Beautiful Soup: 100%|██████████| 1/1 [00:41<00:00, 41.91s/it]\n",
            "\n",
            "Extracting content with Mindsmith AI for Firecrawl:   0%|          | 0/1 [00:00<?, ?it/s]\u001b[A\n",
            "Extracting content with Mindsmith AI for Firecrawl: 100%|██████████| 1/1 [00:06<00:00,  6.14s/it]\n",
            "\n",
            "Extracting content with Mindsmith AI for Jina AI:   0%|          | 0/1 [00:00<?, ?it/s]\u001b[A\n",
            "Extracting content with Mindsmith AI for Jina AI: 100%|██████████| 1/1 [00:05<00:00,  5.59s/it]\n",
            "Processing results:  75%|███████▌  | 3/4 [01:03<00:27, 27.17s/it]\n",
            "Extracting content with Cards-microlearning for Beautiful Soup:   0%|          | 0/1 [00:00<?, ?it/s]\u001b[A\n",
            "Extracting content with Cards-microlearning for Beautiful Soup: 100%|██████████| 1/1 [00:46<00:00, 46.06s/it]\n",
            "\n",
            "Extracting content with Cards-microlearning for Firecrawl:   0%|          | 0/1 [00:00<?, ?it/s]\u001b[A\n",
            "Extracting content with Cards-microlearning for Firecrawl: 100%|██████████| 1/1 [00:09<00:00,  9.29s/it]\n",
            "\n",
            "Extracting content with Cards-microlearning for Jina AI:   0%|          | 0/1 [00:00<?, ?it/s]\u001b[A\n",
            "Extracting content with Cards-microlearning for Jina AI: 100%|██████████| 1/1 [00:01<00:00,  1.66s/it]\n",
            "Processing results: 100%|██████████| 4/4 [02:00<00:00, 30.12s/it]"
          ]
        },
        {
          "output_type": "stream",
          "name": "stdout",
          "text": [
            "Extracted Content Table:\n",
            "+-------------------------+----------------+----------------------------------------------------+\n",
            "|           Site          | Provider Name  |                 Extracted Content                  |\n",
            "+-------------------------+----------------+----------------------------------------------------+\n",
            "| Articulate 360 by Adobe | Beautiful Soup |                         {                          |\n",
            "|                         |                |                    \"cheapest\": {                   |\n",
            "|                         |                |                      \"name\": \"\",                   |\n",
            "|                         |                |                      \"price\": 0.0                  |\n",
            "|                         |                |                          },                        |\n",
            "|                         |                |                     \"middle\": {                    |\n",
            "|                         |                |                      \"name\": \"\",                   |\n",
            "|                         |                |                      \"price\": 0.0                  |\n",
            "|                         |                |                          },                        |\n",
            "|                         |                |                 \"most_expensive\": {                |\n",
            "|                         |                |                      \"name\": \"\",                   |\n",
            "|                         |                |                      \"price\": 0.0                  |\n",
            "|                         |                |                          }                         |\n",
            "|                         |                |                         }                          |\n",
            "+-------------------------+----------------+----------------------------------------------------+\n",
            "| Articulate 360 by Adobe |   Firecrawl    |                         {                          |\n",
            "|                         |                |                    \"cheapest\": {                   |\n",
            "|                         |                |                \"name\": \"Personal Plan\",            |\n",
            "|                         |                |                    \"price\": 1099.0                 |\n",
            "|                         |                |                          },                        |\n",
            "|                         |                |                     \"middle\": {                    |\n",
            "|                         |                |                 \"name\": \"Teams Plan\",              |\n",
            "|                         |                |                    \"price\": 1399.0                 |\n",
            "|                         |                |                          },                        |\n",
            "|                         |                |                 \"most_expensive\": {                |\n",
            "|                         |                |                \"name\": \"Reach 360 Pro\",            |\n",
            "|                         |                |          \"price\": \"Contact sales for pricing\"      |\n",
            "|                         |                |                          }                         |\n",
            "|                         |                |                         }                          |\n",
            "+-------------------------+----------------+----------------------------------------------------+\n",
            "| Articulate 360 by Adobe |    Jina AI     |                         {                          |\n",
            "|                         |                |                    \"cheapest\": {                   |\n",
            "|                         |                |                \"name\": \"Personal Plan\",            |\n",
            "|                         |                |                    \"price\": 1099.0                 |\n",
            "|                         |                |                          },                        |\n",
            "|                         |                |                     \"middle\": {                    |\n",
            "|                         |                |                 \"name\": \"Teams Plan\",              |\n",
            "|                         |                |                    \"price\": 1399.0                 |\n",
            "|                         |                |                          },                        |\n",
            "|                         |                |                 \"most_expensive\": {                |\n",
            "|                         |                |             \"name\": \"Reach 360 Pro Plan\",          |\n",
            "|                         |                |                  \"price\": \"Variable\"               |\n",
            "|                         |                |                          }                         |\n",
            "|                         |                |                         }                          |\n",
            "+-------------------------+----------------+----------------------------------------------------+\n",
            "|          7taps          | Beautiful Soup |                         {                          |\n",
            "|                         |                |                    \"cheapest\": {                   |\n",
            "|                         |                |                    \"name\": \"Free\",                 |\n",
            "|                         |                |                      \"price\": 0.0                  |\n",
            "|                         |                |                          },                        |\n",
            "|                         |                |                     \"middle\": {                    |\n",
            "|                         |                |                     \"name\": \"Pro\",                 |\n",
            "|                         |                |                     \"price\": 99.0                  |\n",
            "|                         |                |                          },                        |\n",
            "|                         |                |                 \"most_expensive\": {                |\n",
            "|                         |                |                 \"name\": \"Enterprise\",              |\n",
            "|                         |                |                              \"price\": 0.0 \t}                           |\n",
            "|                         |                |                         }                          |\n",
            "+-------------------------+----------------+----------------------------------------------------+\n",
            "|          7taps          |   Firecrawl    |                         {                          |\n",
            "|                         |                |                    \"cheapest\": {                   |\n",
            "|                         |                |                    \"name\": \"Free\",                 |\n",
            "|                         |                |                      \"price\": 0.0                  |\n",
            "|                         |                |                          },                        |\n",
            "|                         |                |                     \"middle\": {                    |\n",
            "|                         |                |                   \"name\": \"Starter\",               |\n",
            "|                         |                |                     \"price\": 20.0                  |\n",
            "|                         |                |                          },                        |\n",
            "|                         |                |                 \"most_expensive\": {                |\n",
            "|                         |                |                     \"name\": \"Pro\",                 |\n",
            "|                         |                |                     \"price\": 99.0                  |\n",
            "|                         |                |                          }                         |\n",
            "|                         |                |                         }                          |\n",
            "+-------------------------+----------------+----------------------------------------------------+\n",
            "|          7taps          |    Jina AI     |                         {                          |\n",
            "|                         |                |                    \"cheapest\": {                   |\n",
            "|                         |                |                    \"name\": \"Free\",                 |\n",
            "|                         |                |                     \"price\": 0.00                  |\n",
            "|                         |                |                          },                        |\n",
            "|                         |                |                     \"middle\": {                    |\n",
            "|                         |                |                     \"name\": \"Pro\",                 |\n",
            "|                         |                |                    \"price\": 199.00                 |\n",
            "|                         |                |                          },                        |\n",
            "|                         |                |                 \"most_expensive\": {                |\n",
            "|                         |                |                 \"name\": \"Enterprise\",              |\n",
            "|                         |                |                    \"price\": 499.00                 |\n",
            "|                         |                |                          }                         |\n",
            "|                         |                |                         }                          |\n",
            "+-------------------------+----------------+----------------------------------------------------+\n",
            "|       Mindsmith AI      | Beautiful Soup |                         {                          |\n",
            "|                         |                |                    \"cheapest\": {                   |\n",
            "|                         |                |                    \"name\": \"Free\",                 |\n",
            "|                         |                |                      \"price\": 0.0                  |\n",
            "|                         |                |                          },                        |\n",
            "|                         |                |                     \"middle\": {                    |\n",
            "|                         |                |                \"name\": \"Professional\",             |\n",
            "|                         |                |                     \"price\": 39.0                  |\n",
            "|                         |                |                          },                        |\n",
            "|                         |                |                 \"most_expensive\": {                |\n",
            "|                         |                |                    \"name\": \"Team\",                 |\n",
            "|                         |                |                     \"price\": null                  |\n",
            "|                         |                |                          }                         |\n",
            "|                         |                |                         }                          |\n",
            "+-------------------------+----------------+----------------------------------------------------+\n",
            "|       Mindsmith AI      |   Firecrawl    |                         {                          |\n",
            "|                         |                |                    \"cheapest\": {                   |\n",
            "|                         |                |                    \"name\": \"Free\",                 |\n",
            "|                         |                |                      \"price\": 0.0                  |\n",
            "|                         |                |                          },                        |\n",
            "|                         |                |                     \"middle\": {                    |\n",
            "|                         |                |                \"name\": \"Professional\",             |\n",
            "|                         |                |                     \"price\": 31.20                 |\n",
            "|                         |                |                          },                        |\n",
            "|                         |                |                 \"most_expensive\": {                |\n",
            "|                         |                |                    \"name\": \"Team\",                 |\n",
            "|                         |                |                     \"price\": 39.0                  |\n",
            "|                         |                |                          }                         |\n",
            "|                         |                |                         }                          |\n",
            "+-------------------------+----------------+----------------------------------------------------+\n",
            "|       Mindsmith AI      |    Jina AI     |                         {                          |\n",
            "|                         |                |                    \"cheapest\": {                   |\n",
            "|                         |                |                    \"name\": \"Free\",                 |\n",
            "|                         |                |                      \"price\": 0.0                  |\n",
            "|                         |                |                          },                        |\n",
            "|                         |                |                     \"middle\": {                    |\n",
            "|                         |                |                \"name\": \"Professional\",             |\n",
            "|                         |                |                     \"price\": 31.2                  |\n",
            "|                         |                |                          },                        |\n",
            "|                         |                |                 \"most_expensive\": {                |\n",
            "|                         |                |                    \"name\": \"Team\",                 |\n",
            "|                         |                |                     \"price\": 39.0                  |\n",
            "|                         |                |                          }                         |\n",
            "|                         |                |                         }                          |\n",
            "+-------------------------+----------------+----------------------------------------------------+\n",
            "|   Cards-microlearning   | Beautiful Soup |                         {                          |\n",
            "|                         |                |                    \"cheapest\": {                   |\n",
            "|                         |                |                    \"name\": \"Basic\",                |\n",
            "|                         |                |                     \"price\": 99.0                  |\n",
            "|                         |                |                          },                        |\n",
            "|                         |                |                     \"middle\": {                    |\n",
            "|                         |                |                   \"name\": \"Starter\",               |\n",
            "|                         |                |                    \"price\": 4400.0                 |\n",
            "|                         |                |                          },                        |\n",
            "|                         |                |                 \"most_expensive\": {                |\n",
            "|                         |                |                  \"name\": \"Business\",               |\n",
            "|                         |                |                    \"price\": 10500.0                |\n",
            "|                         |                |                          }                         |\n",
            "|                         |                |                         }                          |\n",
            "+-------------------------+----------------+----------------------------------------------------+\n",
            "|   Cards-microlearning   |   Firecrawl    |                         {                          |\n",
            "|                         |                |                    \"cheapest\": {                   |\n",
            "|                         |                |                 \"name\": \"BASIC OFFER\",             |\n",
            "|                         |                |                     \"price\": 99.0                  |\n",
            "|                         |                |                          },                        |\n",
            "|                         |                |                     \"middle\": {                    |\n",
            "|                         |                |                   \"name\": \"Starter\",               |\n",
            "|                         |                |                    \"price\": 4400.0                 |\n",
            "|                         |                |                          },                        |\n",
            "|                         |                |                 \"most_expensive\": {                |\n",
            "|                         |                |                  \"name\": \"Business\",               |\n",
            "|                         |                |                    \"price\": 10500.0                |\n",
            "|                         |                |                          }                         |\n",
            "|                         |                |                         }                          |\n",
            "+-------------------------+----------------+----------------------------------------------------+\n",
            "|   Cards-microlearning   |    Jina AI     |                         {                          |\n",
            "|                         |                |                    \"cheapest\": {                   |\n",
            "|                         |                |         \"name\": \"HT cost/ additional license\",     |\n",
            "|                         |                |                      \"price\": 3.6                  |\n",
            "|                         |                |                          },                        |\n",
            "|                         |                |                     \"middle\": {                    |\n",
            "|                         |                |        \"name\": \"Getting Started Webinar Ickoff     |\n",
            "|                         |                | Meeting + 1 Workshop (1h) for annual commitments\", |\n",
            "|                         |                |                     \"price\": 89.0                  |\n",
            "|                         |                |                          },                        |\n",
            "|                         |                |                 \"most_expensive\": {                |\n",
            "|                         |                |     \"name\": \"Getting Started Webinar + 4 Workshops |\n",
            "|                         |                |           (1h) for annual commitments\",            |\n",
            "|                         |                |                     \"price\": null                  |\n",
            "|                         |                |                          }                         |\n",
            "|                         |                |                         }                          |\n",
            "|                         |                |                                                    |\n",
            "|                         |                |                                                    |\n",
            "+-------------------------+----------------+----------------------------------------------------+\n"
          ]
        },
        {
          "output_type": "stream",
          "name": "stderr",
          "text": [
            "\n"
          ]
        }
      ]
    }
  ]
}